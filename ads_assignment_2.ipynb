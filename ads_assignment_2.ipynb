{
  "cells": [
    {
      "cell_type": "markdown",
      "metadata": {
        "id": "view-in-github",
        "colab_type": "text"
      },
      "source": [
        "<a href=\"https://colab.research.google.com/github/AhmedSofan10/za07ryma/blob/main/ads_assignment_2.ipynb\" target=\"_parent\"><img src=\"https://colab.research.google.com/assets/colab-badge.svg\" alt=\"Open In Colab\"/></a>"
      ]
    },
    {
      "cell_type": "markdown",
      "id": "ac882c97",
      "metadata": {
        "pycharm": {
          "name": "#%% md\n"
        },
        "id": "ac882c97"
      },
      "source": [
        "Fill in your github username and idm credentials below:"
      ]
    },
    {
      "cell_type": "code",
      "execution_count": 1,
      "id": "aaebc267",
      "metadata": {
        "pycharm": {
          "is_executing": true,
          "name": "#%%\n"
        },
        "vscode": {
          "languageId": "python"
        },
        "id": "aaebc267"
      },
      "outputs": [],
      "source": [
        "github_username = \"AhmedSofan10\"\n",
        "idm_credentials = \"za07ryma\""
      ]
    },
    {
      "cell_type": "markdown",
      "id": "8a1197f0",
      "metadata": {
        "pycharm": {
          "name": "#%% md\n"
        },
        "id": "8a1197f0"
      },
      "source": [
        "---"
      ]
    },
    {
      "cell_type": "markdown",
      "id": "127ddf52-250e-4d67-b1a6-e20b92c660f8",
      "metadata": {
        "deletable": false,
        "editable": false,
        "nbgrader": {
          "cell_type": "markdown",
          "checksum": "cc2bfe4c87cff2ead8bead95beb86b84",
          "grade": false,
          "grade_id": "cell-842d196bac0dac86",
          "locked": true,
          "schema_version": 3,
          "solution": false,
          "task": false
        },
        "tags": [],
        "id": "127ddf52-250e-4d67-b1a6-e20b92c660f8"
      },
      "source": [
        "# **Applied Data Science in Medicine & Psychology - Assignment 2**\n",
        "---\n",
        "**Deadline: 09.05.2023, 23:59**\n",
        "### **General setup and submission**\n",
        "1. Save an editable copy of this notebook to your Google Drive ``File`` $\\rightarrow$ ``Save a copy in Drive`` and remove the automatically appended \"Copy of\" text. **Do not change the file name**.\n",
        "2. Work on the assignment in the *copied* version of the notebook. Make sure that you **replace** all parts of the tasks indicated with *YOUR CODE HERE* and **raise NotImplementedError()** or *YOUR ANSWER HERE* with your solution.\n",
        "3. If you do a break during the implementation, you can save the current status of your work in your repository following the submission instructions below. When you continue working on the assignment, do this in the version of the notebook that you saved in your Google Drive (access from your Google Colab account) or your repository.\n",
        "4. After finishing the assignment submit your assignment as follows:\n",
        "    * Check that everything runs as expected. To do that select in the menubar ``Runtime`` $\\rightarrow$ ``Restart and run all``. This will clear all your local variables and runs your notebook from the beginning\n",
        "    * Save your notebook, click ``File`` $\\rightarrow$ ``Save``\n",
        "    * Click ``File`` $\\rightarrow$ ``Save a copy in GitHub``\n",
        "    * Select ``digikolleg-data-science-psychology/ads_assignment_2-<username>`` from the Repository drop-down menu \n",
        "    * Type ``ads_assignment_2.ipynb`` into the File path text box\n",
        "    * Optionally, you may enter a description into the \"Commit message\" text box (like: \"solved task 1\" or \"ready for grading\")\n",
        "    * Make sure that the \"Include a link to Colaboratory\" box is checked\n",
        "    * Press \"Ok\"\n",
        "    * A new tab or window should open up, displaying your submitted notebook within your GitHub repository\n",
        "\n",
        "Before the assignment deadline, you can re-submit your assignment as often as you would like. This will update the copy of your assignment file in your assignment's repository."
      ]
    },
    {
      "cell_type": "markdown",
      "id": "2a8b0c26-9905-4b68-b21d-cd0307150422",
      "metadata": {
        "deletable": false,
        "editable": false,
        "nbgrader": {
          "cell_type": "markdown",
          "checksum": "499334f4a5bf6fcd7f5eda366eba5ac6",
          "grade": false,
          "grade_id": "cell-1c9dadaff87c8c49",
          "locked": true,
          "schema_version": 3,
          "solution": false,
          "task": false
        },
        "tags": [],
        "id": "2a8b0c26-9905-4b68-b21d-cd0307150422"
      },
      "source": [
        "### **Assignment Description**\n",
        "In this assignment, we cover the first part of Python basics. You will write the first lines of code, create variables, and manipulate their values using operators. Furthermore, you will learn how to display your results and play around with your first plot.\n",
        "\n",
        "#### **Assignment goals**\n",
        "You are going to learn the following things in this assignment:\n",
        "1. how to run cells and use Python and Jupyter notebooks as a calculator\n",
        "2. how to display content, e.g., the values of your variables\n",
        "3. how to deal with variables\n",
        "4. how to use the different types of operators\n",
        "5. how to use line and multi-line comments\n",
        "6. that graphical visualization is done using a library and that you can change the appearance easily\n",
        "\n",
        "#### **Assignment point value**\n",
        "This assignment is worth a total (up to) 8 points. If your code passes all of the manual and automatic tests you will receive full credit."
      ]
    },
    {
      "cell_type": "markdown",
      "id": "0b3fb6b7-de32-4ec8-a47d-44605fa66c41",
      "metadata": {
        "tags": [],
        "id": "0b3fb6b7-de32-4ec8-a47d-44605fa66c41"
      },
      "source": [
        "### **Tasks**\n",
        "Make sure that you now work on your *copied* version of this assignment's notebook.\n",
        "#### 0. Imports and Setup\n",
        "Please **run** the cell below to import the libraries needed for this assignment."
      ]
    },
    {
      "cell_type": "code",
      "execution_count": 2,
      "id": "b40aa32c-d65b-4f18-9409-b71c52175aca",
      "metadata": {
        "id": "b40aa32c-d65b-4f18-9409-b71c52175aca"
      },
      "outputs": [],
      "source": [
        "import matplotlib.pyplot as plt\n",
        "import numpy as np"
      ]
    },
    {
      "cell_type": "markdown",
      "id": "39baadbc-fd7d-4d65-bbcb-c833bbf072d3",
      "metadata": {
        "tags": [],
        "id": "39baadbc-fd7d-4d65-bbcb-c833bbf072d3"
      },
      "source": [
        "#### 1. Python as a calculator - running cells\n",
        "The easiest way to think about Python is that it works sort of like a calculator. When running a cell that contains an equation Python will calculate the value of the expression.\n",
        "\n",
        "##### 1.1 Run the cell below and get the result of ``5 + 3``:"
      ]
    },
    {
      "cell_type": "code",
      "execution_count": 3,
      "id": "ca3f34b5-ad54-4d0f-8af2-4546053157a7",
      "metadata": {
        "id": "ca3f34b5-ad54-4d0f-8af2-4546053157a7",
        "colab": {
          "base_uri": "https://localhost:8080/"
        },
        "outputId": "d884d30e-991f-424a-bf33-fb4652fefbf2"
      },
      "outputs": [
        {
          "output_type": "execute_result",
          "data": {
            "text/plain": [
              "8"
            ]
          },
          "metadata": {},
          "execution_count": 3
        }
      ],
      "source": [
        "5 + 3"
      ]
    },
    {
      "cell_type": "markdown",
      "id": "8bb9ccd8-1769-4984-b51f-b5096224521b",
      "metadata": {
        "id": "8bb9ccd8-1769-4984-b51f-b5096224521b"
      },
      "source": [
        "##### 1.2 Write an equation that adds 7 and 9 and multiplies the result with 4. Run the cell to get the result:"
      ]
    },
    {
      "cell_type": "code",
      "execution_count": 4,
      "id": "da76a4f8-dc5f-4d96-bbce-4357ad02f513",
      "metadata": {
        "deletable": false,
        "nbgrader": {
          "cell_type": "code",
          "checksum": "82069009fbbda81c40aaee0175dae387",
          "grade": false,
          "grade_id": "run_cell",
          "locked": false,
          "schema_version": 3,
          "solution": true,
          "task": false
        },
        "tags": [],
        "id": "da76a4f8-dc5f-4d96-bbce-4357ad02f513",
        "colab": {
          "base_uri": "https://localhost:8080/"
        },
        "outputId": "2245c23b-af8f-4ee3-a708-1f02499db574"
      },
      "outputs": [
        {
          "output_type": "execute_result",
          "data": {
            "text/plain": [
              "64"
            ]
          },
          "metadata": {},
          "execution_count": 4
        }
      ],
      "source": [
        "# YOUR CODE HERE\n",
        "4 * (7 + 9)\n"
      ]
    },
    {
      "cell_type": "markdown",
      "id": "9814f352-11b9-4e12-92b5-cb390c1862de",
      "metadata": {
        "id": "9814f352-11b9-4e12-92b5-cb390c1862de"
      },
      "source": [
        "#### 2. print command\n",
        "The ``print`` command is a useful function that lets you display text. Therefore, it can be used for a variety of things, e.g., displaying the results of calculations or debugging (diagnosing and correcting problems with your code implementation). One simple debugging approach is to have your program periodically print out useful messages to help you understand what's happening. The most basic way to use the ``print`` function is to call ``print(...)``, replacing the ``...`` with the text you want to be displayed, enclosed in single (``'``) or double (``\"``) quotes, like this:\n",
        "\n",
        "```\n",
        "print(\"Hello, world!\")\n",
        "```"
      ]
    },
    {
      "cell_type": "markdown",
      "id": "44bd2556-b7c9-48e0-81c8-869314493b61",
      "metadata": {
        "id": "44bd2556-b7c9-48e0-81c8-869314493b61"
      },
      "source": [
        "##### 2.1 Write code in the next cell to print a greeting to yourself (e.g. \"Hello, Anna!\"):"
      ]
    },
    {
      "cell_type": "code",
      "execution_count": 5,
      "id": "36dd3249-56b4-4e05-9395-1391d122b335",
      "metadata": {
        "deletable": false,
        "nbgrader": {
          "cell_type": "code",
          "checksum": "da1ff505bc9fdeef97663eca507038a8",
          "grade": false,
          "grade_id": "print",
          "locked": false,
          "schema_version": 3,
          "solution": true,
          "task": false
        },
        "tags": [],
        "id": "36dd3249-56b4-4e05-9395-1391d122b335",
        "colab": {
          "base_uri": "https://localhost:8080/"
        },
        "outputId": "530d6e5e-bc61-42c0-d7f5-718d2939ad1d"
      },
      "outputs": [
        {
          "output_type": "stream",
          "name": "stdout",
          "text": [
            "Hello, Ahmed!\n"
          ]
        }
      ],
      "source": [
        "# YOUR CODE HERE\n",
        "print(\"Hello, Ahmed!\")"
      ]
    },
    {
      "cell_type": "markdown",
      "id": "2f5c737e-447a-45f6-ab5a-cf82dbebab62",
      "metadata": {
        "id": "2f5c737e-447a-45f6-ab5a-cf82dbebab62"
      },
      "source": [
        "#### 3. Variables\n",
        "A variable is a named object that has a particular value. This value can be of various types such as numbers, strings, boolean (``True``/``False``) values, or objects. Variables are used to store data that can be referenced and manipulated throughout a program. They can also be reassigned to a new value as the program runs. For example, if you want to store the number of participants during a study in your program, you could create a variable called \"number_participants\" and assign a value to it like this:\n",
        "```\n",
        "number_particpiants = 24\n",
        "```\n",
        "If the number of participants then increases throughout the study, you can simply change the value of the variable in your program:\n",
        "```\n",
        "number_participants = 25\n",
        "```"
      ]
    },
    {
      "cell_type": "markdown",
      "id": "df5956e9-d31c-4eb2-8dcd-248964f0af12",
      "metadata": {
        "id": "df5956e9-d31c-4eb2-8dcd-248964f0af12"
      },
      "source": [
        "##### 3.1 Rewrite the calculation you did in 1.2. Create the variables ``a``, ``b``, ``c``, and ``result``. Assign 7 to ``a``, 9 to ``b``, 4 to ``c``. Rewrite the \"Add 7 and 9 and multiply the result with 4\" equation to \"Add a and b and multiply the result with c\" and assign the result to the variable ``result``:"
      ]
    },
    {
      "cell_type": "code",
      "execution_count": 6,
      "id": "d0333d7d-5328-44c3-b45f-bb043e25e63c",
      "metadata": {
        "deletable": false,
        "nbgrader": {
          "cell_type": "code",
          "checksum": "485a52049fabcc9bedbb0b782422e3cc",
          "grade": false,
          "grade_id": "variables",
          "locked": false,
          "schema_version": 3,
          "solution": true,
          "task": false
        },
        "tags": [],
        "id": "d0333d7d-5328-44c3-b45f-bb043e25e63c",
        "colab": {
          "base_uri": "https://localhost:8080/"
        },
        "outputId": "2f311c1d-0249-4a7d-f76e-8052b98a0443"
      },
      "outputs": [
        {
          "output_type": "stream",
          "name": "stdout",
          "text": [
            "64\n"
          ]
        }
      ],
      "source": [
        "# YOUR CODE HERE\n",
        "a  = 7  \n",
        "b = 9\n",
        "c = 4\n",
        "result = c * (a+b)\n",
        "\n",
        "print(result)"
      ]
    },
    {
      "cell_type": "code",
      "execution_count": 7,
      "id": "98d8e696-e2ef-4ef6-8379-13cf1df50607",
      "metadata": {
        "deletable": false,
        "editable": false,
        "nbgrader": {
          "cell_type": "code",
          "checksum": "a03e358a99ae301cd355ffd5035457aa",
          "grade": true,
          "grade_id": "variables_test",
          "locked": true,
          "points": 1,
          "schema_version": 3,
          "solution": false,
          "task": false
        },
        "tags": [],
        "id": "98d8e696-e2ef-4ef6-8379-13cf1df50607"
      },
      "outputs": [],
      "source": [
        "# run tests to check your implementation\n",
        "assert a\n",
        "assert b\n",
        "assert c\n",
        "assert result # checks the correct spelling of the variable\n",
        "assert result == 64, \"Check your implementation, did you consider that multiplication/division is executed before addition/subtraction. You can use brackets (...) to enforce the right order.\""
      ]
    },
    {
      "cell_type": "markdown",
      "id": "a2507805-7706-4909-b75c-4dc98ec1126b",
      "metadata": {
        "id": "a2507805-7706-4909-b75c-4dc98ec1126b"
      },
      "source": [
        "#### 4. Operators\n",
        "In computer programming, an operator is a symbol or keyword used to perform operations on one or more operands to produce a result. These operations can be mathematical, logical, or bitwise, depending on the type of operator used. Operators are an essential part of programming languages and allow developers to perform a wide range of tasks, from simple arithmetic operations to complex logical comparisons.\n",
        "##### 4.1 Arithmetic Operators\n",
        "Arithmetic Operators are used to performing basic mathematical operations.\n",
        "\n",
        "| name | operator | example |\n",
        "| :- | :-: | :- |\n",
        "| plus | + | a + b |\n",
        "| minus | - | a - b |\n",
        "| multiplication | * | a * b |\n",
        "| divison | / | a / b |\n",
        "| floor divison | // | a // b |\n",
        "| exponent | ** | a ** b |\n",
        "| modulus | % | a % b |\n",
        "| negation | - | -a |"
      ]
    },
    {
      "cell_type": "markdown",
      "id": "e6c37101-9bea-4f82-b4a7-908b9f598d56",
      "metadata": {
        "id": "e6c37101-9bea-4f82-b4a7-908b9f598d56"
      },
      "source": [
        "* Create the variable ``glass_of_water`` and give it the value 3. Then add ``1`` to the variable and print the new value of the variable:"
      ]
    },
    {
      "cell_type": "code",
      "execution_count": 8,
      "id": "141e4d6a-69ec-4e5e-8c3b-8f91839bbb08",
      "metadata": {
        "deletable": false,
        "nbgrader": {
          "cell_type": "code",
          "checksum": "71a4199737f7491dfba7c6a0f3cae9ad",
          "grade": false,
          "grade_id": "addition",
          "locked": false,
          "schema_version": 3,
          "solution": true,
          "task": false
        },
        "tags": [],
        "id": "141e4d6a-69ec-4e5e-8c3b-8f91839bbb08",
        "colab": {
          "base_uri": "https://localhost:8080/"
        },
        "outputId": "9a0ec164-9703-4c25-929a-9bc7238d1443"
      },
      "outputs": [
        {
          "output_type": "stream",
          "name": "stdout",
          "text": [
            "4\n"
          ]
        }
      ],
      "source": [
        "# YOUR CODE HERE\n",
        "glass_of_water = 3\n",
        "glass_of_water = glass_of_water + 1\n",
        "print(glass_of_water)"
      ]
    },
    {
      "cell_type": "code",
      "execution_count": 9,
      "id": "dc349706-877a-43e2-8ac9-cfb4e8c45d69",
      "metadata": {
        "deletable": false,
        "editable": false,
        "nbgrader": {
          "cell_type": "code",
          "checksum": "cbef8d7c4c4db7f01fbd4379910f985d",
          "grade": true,
          "grade_id": "addition_test",
          "locked": true,
          "points": 1,
          "schema_version": 3,
          "solution": false,
          "task": false
        },
        "tags": [],
        "id": "dc349706-877a-43e2-8ac9-cfb4e8c45d69"
      },
      "outputs": [],
      "source": [
        "# run tests to check your implementation\n",
        "assert glass_of_water # check the correct spelling of the variable\n",
        "assert glass_of_water == 4, \"Check if you assigned the increased value again to your variable glass_of_water. You can do this using the following expression: a = a + value\""
      ]
    },
    {
      "cell_type": "markdown",
      "id": "2ffa097b-d1fc-4942-8a53-6b9099b46b5e",
      "metadata": {
        "id": "2ffa097b-d1fc-4942-8a53-6b9099b46b5e"
      },
      "source": [
        "* Create the variable ``number_apples`` and assign it to 21. Create the variable ``number_people`` and assign it to 8. Calculate the number of apples per person using the created variables, assign it to the variable ``apples_per_person``, and print the result:"
      ]
    },
    {
      "cell_type": "code",
      "execution_count": 10,
      "id": "9ce05b33-e287-4165-a9f7-96ad9c4babee",
      "metadata": {
        "deletable": false,
        "nbgrader": {
          "cell_type": "code",
          "checksum": "78b52db45fac606852e917cf37267c43",
          "grade": false,
          "grade_id": "divison",
          "locked": false,
          "schema_version": 3,
          "solution": true,
          "task": false
        },
        "tags": [],
        "id": "9ce05b33-e287-4165-a9f7-96ad9c4babee",
        "colab": {
          "base_uri": "https://localhost:8080/"
        },
        "outputId": "6510cad5-cc09-4359-9389-ef4b8b1fd3a6"
      },
      "outputs": [
        {
          "output_type": "stream",
          "name": "stdout",
          "text": [
            "2.625\n"
          ]
        }
      ],
      "source": [
        "# YOUR CODE HERE\n",
        "number_apples = 21\n",
        "number_people = 8\n",
        "apples_per_person = number_apples/number_people\n",
        "\n",
        "print(apples_per_person)"
      ]
    },
    {
      "cell_type": "code",
      "execution_count": 11,
      "id": "f93b0c7f-93cb-436e-bfd0-02775b2180cd",
      "metadata": {
        "deletable": false,
        "editable": false,
        "nbgrader": {
          "cell_type": "code",
          "checksum": "7379514b7532deaaaf4ceaee279b1e41",
          "grade": true,
          "grade_id": "division_test",
          "locked": true,
          "points": 1,
          "schema_version": 3,
          "solution": false,
          "task": false
        },
        "tags": [],
        "id": "f93b0c7f-93cb-436e-bfd0-02775b2180cd"
      },
      "outputs": [],
      "source": [
        "# run tests to check your implementation\n",
        "assert number_apples\n",
        "assert number_people\n",
        "assert apples_per_person\n",
        "assert apples_per_person == 2.625, \"Check if you assigned the correct values to number_apples and number_people. Check if you used the right operator.\""
      ]
    },
    {
      "cell_type": "markdown",
      "id": "2e393f75-eb45-4ed3-bd85-408783d4f45a",
      "metadata": {
        "id": "2e393f75-eb45-4ed3-bd85-408783d4f45a"
      },
      "source": [
        "* Calculate ``apples_per_person`` using floor division and the variables created above. Print the result:"
      ]
    },
    {
      "cell_type": "code",
      "execution_count": 12,
      "id": "4d403f54-2d93-457f-8b1f-f6b904b3e2c7",
      "metadata": {
        "deletable": false,
        "nbgrader": {
          "cell_type": "code",
          "checksum": "6d4c7229c9e403d22beea54d57bc6279",
          "grade": false,
          "grade_id": "floor_division",
          "locked": false,
          "schema_version": 3,
          "solution": true,
          "task": false
        },
        "tags": [],
        "id": "4d403f54-2d93-457f-8b1f-f6b904b3e2c7",
        "colab": {
          "base_uri": "https://localhost:8080/"
        },
        "outputId": "1743d7bc-e107-45be-fa41-37bcb20bb537"
      },
      "outputs": [
        {
          "output_type": "stream",
          "name": "stdout",
          "text": [
            "2\n"
          ]
        }
      ],
      "source": [
        "# YOUR CODE HERE\n",
        "apples_per_person = number_apples//number_people\n",
        "print(apples_per_person)"
      ]
    },
    {
      "cell_type": "code",
      "execution_count": 13,
      "id": "4a0c10a9-f04e-4fc9-8c19-4434901925f1",
      "metadata": {
        "deletable": false,
        "editable": false,
        "nbgrader": {
          "cell_type": "code",
          "checksum": "c723226b7d0a1b2bcc238d3a8b3f7f3a",
          "grade": true,
          "grade_id": "floor_division_test",
          "locked": true,
          "points": 1,
          "schema_version": 3,
          "solution": false,
          "task": false
        },
        "tags": [],
        "id": "4a0c10a9-f04e-4fc9-8c19-4434901925f1"
      },
      "outputs": [],
      "source": [
        "# run tests to check your implementation\n",
        "assert apples_per_person\n",
        "assert apples_per_person == 2, \"Check if you assigned the correct values to number_apples and number_people in one of the cells above. Check if you used the right operator.\""
      ]
    },
    {
      "cell_type": "markdown",
      "id": "a28f7997-5cd2-4eb3-b787-7e79db73893a",
      "metadata": {
        "id": "a28f7997-5cd2-4eb3-b787-7e79db73893a"
      },
      "source": [
        "* Explain the difference between division and floor division. In which case could floor division be more suitable for a calculation task than division? You can use the apples_per_person example in your explanation:"
      ]
    },
    {
      "cell_type": "markdown",
      "id": "d0a28bd0-e491-42e8-a5ee-deeb15931ce2",
      "metadata": {
        "tags": [],
        "id": "d0a28bd0-e491-42e8-a5ee-deeb15931ce2"
      },
      "source": [
        "\n",
        "\n",
        "**Floor division is useful in situations where we need to perform integer \n",
        "division and obtain a whole number as the result. In contrast, regular division is more appropriate when we need a fractional result. For example, in our scenario: it does not make sense that we give every person '2.625' of the apples. However, it makes more sense that every person take 2 whole apples.** \n"
      ]
    },
    {
      "cell_type": "markdown",
      "id": "e2275056-0851-4664-9651-dfd968730352",
      "metadata": {
        "id": "e2275056-0851-4664-9651-dfd968730352"
      },
      "source": [
        "* Calculate ``number_apples % number_people`` using the modulus operator, assign the result to a variable called ``apples_left_over``, and print the result:"
      ]
    },
    {
      "cell_type": "code",
      "execution_count": 14,
      "id": "52c0de21-bc12-426d-87b3-c37c4c998c0f",
      "metadata": {
        "deletable": false,
        "nbgrader": {
          "cell_type": "code",
          "checksum": "46fa7b0331acb92f8489a2c2a1045a16",
          "grade": false,
          "grade_id": "modulus",
          "locked": false,
          "schema_version": 3,
          "solution": true,
          "task": false
        },
        "tags": [],
        "id": "52c0de21-bc12-426d-87b3-c37c4c998c0f",
        "colab": {
          "base_uri": "https://localhost:8080/"
        },
        "outputId": "1803b921-834f-42b8-e3f5-bde1f0a25519"
      },
      "outputs": [
        {
          "output_type": "stream",
          "name": "stdout",
          "text": [
            "5\n"
          ]
        }
      ],
      "source": [
        "# YOUR CODE HERE\n",
        "apples_left_over = number_apples % number_people\n",
        "print(apples_left_over)"
      ]
    },
    {
      "cell_type": "code",
      "execution_count": 15,
      "id": "7507cc0e-4a3f-4feb-8550-91a9d3d037da",
      "metadata": {
        "deletable": false,
        "editable": false,
        "nbgrader": {
          "cell_type": "code",
          "checksum": "889e03161ee6ab0df8d2a4450021c6ee",
          "grade": true,
          "grade_id": "modulus_test",
          "locked": true,
          "points": 1,
          "schema_version": 3,
          "solution": false,
          "task": false
        },
        "tags": [],
        "id": "7507cc0e-4a3f-4feb-8550-91a9d3d037da"
      },
      "outputs": [],
      "source": [
        "# run tests to check your implementation\n",
        "assert apples_left_over\n",
        "assert apples_left_over == 5, \"Check if you assigned the correct values to number_apples and number_people in one of the cells above. Check if you used the right operator.\""
      ]
    },
    {
      "cell_type": "markdown",
      "id": "f237ac59-2fce-4c0e-9751-f0196162d96a",
      "metadata": {
        "id": "f237ac59-2fce-4c0e-9751-f0196162d96a"
      },
      "source": [
        "* Explain what a modulus operator does. In which situation could the usage of modulus be useful? You can use the apples_left_over example in your explanation:"
      ]
    },
    {
      "cell_type": "markdown",
      "id": "e94f2e4b-7d27-4872-a938-44a0ea5e4765",
      "metadata": {
        "tags": [],
        "id": "e94f2e4b-7d27-4872-a938-44a0ea5e4765"
      },
      "source": [
        "**The modulus operator, returns the remainder of dividing one number by another. So for example, when divide the number of apples by the number of people we got '5' as a reminder because '21' has two '8's added with '5'.**"
      ]
    },
    {
      "cell_type": "markdown",
      "id": "e3482741-d69c-4934-91be-8287cf251d9e",
      "metadata": {
        "id": "e3482741-d69c-4934-91be-8287cf251d9e"
      },
      "source": [
        "##### 4.2 Assignment Operators\n",
        "Assignment operators are used to assign a value to a variable. Combinations between arithemtic and assignment operators (e.g. +=) perform the the arithemtic operation first and then assigns this manipulated value to the variable.\n",
        "\n",
        "| name | operator | example | short for |\n",
        "| :- | :-: | :- | :- |\n",
        "| equals | = | a = b |  |\n",
        "| plus equals | += | a += b| a = a + b |\n",
        "| minus equals | -= | a -= b | a = a - b|\n",
        "| multiplication equals | *= | a *= b | a = a * b\n",
        "| divison equals | /= | a /= b | a = a / b |\n",
        "| floor divison equals | //= | a //= b | a = a // b\n",
        "| exponent equals | **= | a **= b | a = a ** b |\n",
        "| modulus equals | %= | a %= b | a = a % b |"
      ]
    },
    {
      "cell_type": "markdown",
      "id": "4b159e4f-b99c-42db-a183-4f6195c3ec5c",
      "metadata": {
        "id": "4b159e4f-b99c-42db-a183-4f6195c3ec5c"
      },
      "source": [
        "* Convert ``temp`` from degrees Fahrenheit to degrees Celsius using the following equation $temp_C = (temp_F - 32) * 5 / 9$ and only assignment operators:"
      ]
    },
    {
      "cell_type": "code",
      "execution_count": 16,
      "id": "9bfe6f76-e777-41c1-8e98-c0ac9c6f0228",
      "metadata": {
        "deletable": false,
        "nbgrader": {
          "cell_type": "code",
          "checksum": "bebf43547f3df3d7991a02e884003d5e",
          "grade": false,
          "grade_id": "assignment_op",
          "locked": false,
          "schema_version": 3,
          "solution": true,
          "task": false
        },
        "tags": [],
        "id": "9bfe6f76-e777-41c1-8e98-c0ac9c6f0228",
        "colab": {
          "base_uri": "https://localhost:8080/"
        },
        "outputId": "f78868bd-b932-412e-a042-bf26c7600b44"
      },
      "outputs": [
        {
          "output_type": "stream",
          "name": "stdout",
          "text": [
            "18.5\n"
          ]
        }
      ],
      "source": [
        "temp = 65.3 # degrees Fahrenheit\n",
        "\n",
        "# YOUR CODE HERE\n",
        "temp -= 32 \n",
        "temp *= 5/9\n",
        "\n",
        "print(temp) # print temp in degrees Celsius"
      ]
    },
    {
      "cell_type": "code",
      "execution_count": 17,
      "id": "deb7ed94-04b8-433c-84f9-05ac5d8a9fe0",
      "metadata": {
        "deletable": false,
        "editable": false,
        "nbgrader": {
          "cell_type": "code",
          "checksum": "14d6ac3da91b002cc93906133095533a",
          "grade": true,
          "grade_id": "assignment_op_test",
          "locked": true,
          "points": 1,
          "schema_version": 3,
          "solution": false,
          "task": false
        },
        "tags": [],
        "id": "deb7ed94-04b8-433c-84f9-05ac5d8a9fe0"
      },
      "outputs": [],
      "source": [
        "# run test to check your implementation\n",
        "assert temp == 18.5, \"Check if you used the right operators and order of operations\""
      ]
    },
    {
      "cell_type": "markdown",
      "id": "8002f1de-edbc-411e-87e5-e254da2e480c",
      "metadata": {
        "id": "8002f1de-edbc-411e-87e5-e254da2e480c"
      },
      "source": [
        "##### 4.3 Comparison Operators\n",
        "Comparison operators are used to comparing two values and return a boolean (``True``/``False``) value depending on the result of the comparison.\n",
        "\n",
        "| name | operator | example |\n",
        "| :- | :-: | :- |\n",
        "| Equal To | == | a == b\n",
        "| Not Equal To | != | a != b\n",
        "| Greater Than | > | a > b\n",
        "| Less Than | < | a < b\n",
        "| Greater Than or Equal To | >= | a >= b\n",
        "| Less Than or Equal To | <= | a <= b"
      ]
    },
    {
      "cell_type": "markdown",
      "id": "bd8df8db-a59b-452e-ac71-01c520bd45fe",
      "metadata": {
        "id": "bd8df8db-a59b-452e-ac71-01c520bd45fe"
      },
      "source": [
        "* Given are the number of participants in study 1 ``participants_s1`` and study 2 ``participants_s2``. Create two variables:\n",
        "    * ``condition_1`` checks if ``participants_s1`` is *not equal to* ``participants_s2``\n",
        "    * ``condition_2`` checks if ``participants_s1`` is *greater than or equal to* ``participants_s2``"
      ]
    },
    {
      "cell_type": "code",
      "execution_count": 18,
      "id": "02965c06-4149-45aa-911e-e564ea9e0459",
      "metadata": {
        "deletable": false,
        "nbgrader": {
          "cell_type": "code",
          "checksum": "5d0df3b6d00f2d3b9c54de6217d3c335",
          "grade": false,
          "grade_id": "comparison_operators",
          "locked": false,
          "schema_version": 3,
          "solution": true,
          "task": false
        },
        "tags": [],
        "id": "02965c06-4149-45aa-911e-e564ea9e0459"
      },
      "outputs": [],
      "source": [
        "participants_s1 = 45\n",
        "participants_s2 = 48\n",
        "\n",
        "# YOUR CODE HERE\n",
        "condition_1 = participants_s1 != participants_s2\n",
        "condition_2 = participants_s1 >= participants_s2"
      ]
    },
    {
      "cell_type": "code",
      "execution_count": 19,
      "id": "dc4f305d-acdc-4bf0-a11a-9e778d50df18",
      "metadata": {
        "deletable": false,
        "editable": false,
        "nbgrader": {
          "cell_type": "code",
          "checksum": "32a7cad22845e8592ee4386a037ad1a6",
          "grade": true,
          "grade_id": "comparison_operators_test",
          "locked": true,
          "points": 1,
          "schema_version": 3,
          "solution": false,
          "task": false
        },
        "tags": [],
        "id": "dc4f305d-acdc-4bf0-a11a-9e778d50df18"
      },
      "outputs": [],
      "source": [
        "# run tests to check your implementation\n",
        "assert condition_1 == True, \"Check if you put the variables in the right order and used the correct operator for condition_1\"\n",
        "assert condition_2 == False,  \"Check if you put the variables in the right order and used the correct operator for condition_2\""
      ]
    },
    {
      "cell_type": "markdown",
      "id": "397dac0e-5de4-4287-b460-7915199a03f1",
      "metadata": {
        "id": "397dac0e-5de4-4287-b460-7915199a03f1"
      },
      "source": [
        "##### 4.4 Logical Operators\n",
        "Logical operators are used to combining multiple conditions and return a boolean value based on the result of the logical operation.\n",
        "\n",
        "<table>\n",
        "<tr><th>operators</th><th>and</th><th>or</th></tr>\n",
        "<tr><td>\n",
        "\n",
        "|name|operator|example|\n",
        "|:-|:-:|:-|\n",
        "|and|and|a and b|\n",
        "|or|or|a or b|\n",
        "|not|not|a and not b|\n",
        "\n",
        "</td><td>\n",
        "\n",
        "|a|b|a and b| \n",
        "|:-|:-|:-|\n",
        "|True|True|True|\n",
        "|True|False|False|\n",
        "|False|True|False|\n",
        "|False|False|False|\n",
        "    \n",
        "</td><td>\n",
        "\n",
        "|a|b|a or b| \n",
        "|:-|:-|:-|\n",
        "|True|True|True|\n",
        "|True|False|True|\n",
        "|False|True|True|\n",
        "|False|False|False|\n",
        "</td></tr> </table>"
      ]
    },
    {
      "cell_type": "markdown",
      "id": "6b76bccb-ca7f-4c78-b64e-f3d95cb64768",
      "metadata": {
        "id": "6b76bccb-ca7f-4c78-b64e-f3d95cb64768"
      },
      "source": [
        "* Create 3 variables using ``condition_1`` and ``condition_2`` from above:\n",
        "    * ``result_1`` checks if ``condition_1`` and ``condition_2`` are True\n",
        "    * ``result_2`` checks if ``condition_1`` or ``condition_2`` is True\n",
        "    * ``result_3`` checks if ``condition_1`` and not ``condition_2`` is True"
      ]
    },
    {
      "cell_type": "code",
      "execution_count": 20,
      "id": "37b85700-5902-41d1-b941-5ba258f04e11",
      "metadata": {
        "deletable": false,
        "nbgrader": {
          "cell_type": "code",
          "checksum": "5b379941d6e8fdb392057562bb66716f",
          "grade": false,
          "grade_id": "logical_operators",
          "locked": false,
          "schema_version": 3,
          "solution": true,
          "task": false
        },
        "tags": [],
        "id": "37b85700-5902-41d1-b941-5ba258f04e11",
        "colab": {
          "base_uri": "https://localhost:8080/"
        },
        "outputId": "c0b31a98-330d-4f05-8587-07b23b673aba"
      },
      "outputs": [
        {
          "output_type": "stream",
          "name": "stdout",
          "text": [
            "True and False = False\n",
            "True or False = True\n",
            "True and not False = True\n"
          ]
        }
      ],
      "source": [
        "# YOUR CODE HERE\n",
        "result_1 = condition_1 and condition_2\n",
        "result_2 = condition_1 or condition_2\n",
        "result_3 = condition_1 and not condition_2\n",
        "\n",
        "print(f\"{condition_1} and {condition_2} = {result_1}\")\n",
        "print(f\"{condition_1} or {condition_2} = {result_2}\")\n",
        "print(f\"{condition_1} and not {condition_2} = {result_3}\")"
      ]
    },
    {
      "cell_type": "code",
      "execution_count": 21,
      "id": "c2d6ccbf-6bd3-44cc-9cf4-8269022b0625",
      "metadata": {
        "deletable": false,
        "editable": false,
        "nbgrader": {
          "cell_type": "code",
          "checksum": "f408db21b46da80ed58318103fde9ef2",
          "grade": true,
          "grade_id": "logical_operators_test",
          "locked": true,
          "points": 1,
          "schema_version": 3,
          "solution": false,
          "task": false
        },
        "tags": [],
        "id": "c2d6ccbf-6bd3-44cc-9cf4-8269022b0625"
      },
      "outputs": [],
      "source": [
        "# run tests to check your implementation\n",
        "assert result_1 == False, \"Check if you used the right operator for result_1\"\n",
        "assert result_2 == True, \"Check if you used the right operator for result_2\"\n",
        "assert result_3 == True, \"Check if you used the right operator for result_3\""
      ]
    },
    {
      "cell_type": "markdown",
      "id": "4391baa9-b1d4-484e-b6a0-1d40cced56b3",
      "metadata": {
        "id": "4391baa9-b1d4-484e-b6a0-1d40cced56b3"
      },
      "source": [
        "* Make sure that you understood the behavior of the three logical operators!"
      ]
    },
    {
      "cell_type": "markdown",
      "id": "70ac205a-dcff-4af5-af9e-d2f3ef8cf848",
      "metadata": {
        "id": "70ac205a-dcff-4af5-af9e-d2f3ef8cf848"
      },
      "source": [
        "#### 5. Comments\n",
        "Comments in programming are non-executable lines of code that are added to a program to provide information or clarification about the code. They are used to help programmers understand what the code does, why it does it, or how it works. Also, it can be useful to comment parts of your implementation when looking for errors. Comments are ignored by the computer when the code is executed.\n",
        "\n",
        "Two types of comments exist:\n",
        "1. single-line comments\n",
        "```\n",
        "# Here you can only write in one line\n",
        "```\n",
        "2. multi-line (block) comments\n",
        "```\n",
        "\"\"\"\n",
        "Here you can \n",
        "write as many lines \n",
        "as you want\n",
        "\"\"\"\n",
        "```"
      ]
    },
    {
      "cell_type": "markdown",
      "id": "59b3e7e6-21bc-413a-9ce5-9ba9712f96a1",
      "metadata": {
        "id": "59b3e7e6-21bc-413a-9ce5-9ba9712f96a1"
      },
      "source": [
        "##### 5.1 Look at the code in the next cell and describe the different steps using comments:"
      ]
    },
    {
      "cell_type": "code",
      "execution_count": 22,
      "id": "7924c585-f314-4cc6-85f1-d5388588cfd3",
      "metadata": {
        "tags": [],
        "id": "7924c585-f314-4cc6-85f1-d5388588cfd3",
        "colab": {
          "base_uri": "https://localhost:8080/"
        },
        "outputId": "65306e12-79a7-44fa-e2df-9174bd96d07d"
      },
      "outputs": [
        {
          "output_type": "stream",
          "name": "stdout",
          "text": [
            "2.5600000000000005\n"
          ]
        }
      ],
      "source": [
        "# Divide 8 by 5 and assign it to the variable 'result'\n",
        "result = 8 / 5\n",
        "# Raise 'result' to the power of 2\n",
        "result **= 2\n",
        "# Print the result.\n",
        "print(result)"
      ]
    },
    {
      "cell_type": "markdown",
      "id": "7cc94886-a87b-4c94-841f-e6b878e2f6dc",
      "metadata": {
        "id": "7cc94886-a87b-4c94-841f-e6b878e2f6dc"
      },
      "source": [
        "#### 6. Data visualization - plotting\n",
        "Data visualization is an essential tool when working with data analysis because it helps you comprehend complex information and identify patterns that might not be immediately obvious from looking at raw data. Charts, graphs, and other graphically enhanced data can be an effective tools for presenting complex facts to others clearly and straightforwardly. Additionally, by visualizing the data, we can better identify outliers and abnormalities that may indicate errors.\n",
        "\n",
        "In Python, the library used for generating graphics and figures is called ``matplotlib``. The library is imported in *0. Setup and Imports*. All of its functions can be accessed using ``plt.<function>``. Besides ``matplotlib``, also ``numpy`` a library for efficiently working with matrices and arrays is imported. For now, you don't need to worry about understanding the code in detail.\n",
        "\n",
        "The following code (run the cell below) visualizes (plots) a sine signal. Besides the data itself, it is also of high importance to provide the context of the figure by including axis labels, units, title, a legend, and other relevant information."
      ]
    },
    {
      "cell_type": "code",
      "execution_count": 23,
      "id": "6f2b06ee-ec6f-4fb3-b9f5-87224b65568c",
      "metadata": {
        "id": "6f2b06ee-ec6f-4fb3-b9f5-87224b65568c",
        "colab": {
          "base_uri": "https://localhost:8080/",
          "height": 472
        },
        "outputId": "aacd205f-bb04-45e3-b65f-a65c1e6de290"
      },
      "outputs": [
        {
          "output_type": "display_data",
          "data": {
            "text/plain": [
              "<Figure size 640x480 with 1 Axes>"
            ],
            "image/png": "[encoded data removed]"
          },
          "metadata": {}
        }
      ],
      "source": [
        "x = np.arange(start=2, stop=4*np.math.pi, step=0.1) # create a series of x values\n",
        "y = np.cos(x) # sine signal\n",
        "\n",
        "plt.plot(x, y, marker='s', label='sine') # plot signal and label for legend\n",
        "plt.legend() # plot legend\n",
        "plt.xlabel('x') # label the x axis\n",
        "plt.ylabel('sin(x)') # label the y axis\n",
        "plt.title('sine signal') # set the plot title\n",
        "plt.show()"
      ]
    },
    {
      "cell_type": "markdown",
      "id": "7e1b1923-336f-4a73-b731-a55ea0be449c",
      "metadata": {
        "id": "7e1b1923-336f-4a73-b731-a55ea0be449c"
      },
      "source": [
        "##### 6.1 Play around with the sine plotting code\n",
        "* What part of the graph is affected if you:\n",
        "1. Change start from ``0`` to ``2`` in ``np.arange(start=0, stop=4*np.math.pi, step=0.1)``.\n",
        "2. Change step from ``0.1`` to ``1`` in ``np.arange(start=0, stop=4*np.math.pi, step=0.1)``.\n",
        "3. Change ``np.sin(x)`` in ``y = np.sin(x)`` to ``np.cos(x)``.\n",
        "4. Change ``'^'`` in ``plt.plot(x, y, marker='^', label='sine')`` to ``'s'``.\n",
        "\n",
        "* Describe your findings for all 4 subtasks separately in the following cell:"
      ]
    },
    {
      "cell_type": "markdown",
      "id": "866f604a-dd53-4719-bd19-ddb2ff147dd0",
      "metadata": {
        "tags": [],
        "id": "866f604a-dd53-4719-bd19-ddb2ff147dd0"
      },
      "source": [
        "\n",
        "\n",
        "1.   The x-axis will start from 2 instead of 0.\n",
        "2.   The step size will change so that x now will increase by 1 for every time step.\n",
        "3.   It will plot the cosine signal instead of the sine.\n",
        "4.   The marker will change into squares.\n",
        "\n"
      ]
    },
    {
      "cell_type": "code",
      "source": [],
      "metadata": {
        "id": "mbJXfAeQgnAo"
      },
      "id": "mbJXfAeQgnAo",
      "execution_count": 23,
      "outputs": []
    }
  ],
  "metadata": {
    "kernelspec": {
      "display_name": "Python 3",
      "name": "python3"
    },
    "language_info": {
      "name": "python"
    },
    "colab": {
      "provenance": [],
      "include_colab_link": true
    },
    "gpuClass": "standard"
  },
  "nbformat": 4,
  "nbformat_minor": 5
}